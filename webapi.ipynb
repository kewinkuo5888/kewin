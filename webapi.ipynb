{
 "cells": [
  {
   "cell_type": "markdown",
   "id": "c144fca3",
   "metadata": {},
   "source": [
    "# Web API ft. Flask"
   ]
  },
  {
   "cell_type": "code",
   "execution_count": null,
   "id": "ca63884f",
   "metadata": {},
   "outputs": [],
   "source": [
    "!pip install Flask"
   ]
  },
  {
   "cell_type": "markdown",
   "id": "a04eb190",
   "metadata": {},
   "source": [
    "## Flask Web Sample"
   ]
  },
  {
   "cell_type": "code",
   "execution_count": null,
   "id": "fe60563c",
   "metadata": {},
   "outputs": [],
   "source": [
    "from flask import Flask\n",
    "\n",
    "app = Flask(__name__)\n",
    "\n",
    "@app.route('/test')\n",
    "def test():\n",
    "    return \"This is a test.\"\n",
    "\n",
    "app.run()"
   ]
  },
  {
   "cell_type": "markdown",
   "id": "e87222be",
   "metadata": {},
   "source": [
    "## Flask to Allow Input"
   ]
  },
  {
   "cell_type": "markdown",
   "id": "1b8f1917",
   "metadata": {},
   "source": [
    "### 2. Web page to Flask"
   ]
  },
  {
   "cell_type": "code",
   "execution_count": null,
   "id": "b6ebd170",
   "metadata": {},
   "outputs": [],
   "source": [
    "from flask import Flask, request\n",
    "\n",
    "app = Flask(__name__)\n",
    "\n",
    "@app.route(\"/inp\")\n",
    "def inp():\n",
    "    page = '''\n",
    "    <form action=\"reply\">\n",
    "        Please input: <input type=\"text\" name=\"topic\">\n",
    "        <input type=\"submit\" value=\"確定\">\n",
    "    </form>\n",
    "    '''\n",
    "    return page\n",
    "\n",
    "app.run()"
   ]
  },
  {
   "cell_type": "markdown",
   "id": "0d172bd1",
   "metadata": {},
   "source": [
    "### 3. Flask to respond"
   ]
  },
  {
   "cell_type": "code",
   "execution_count": null,
   "id": "88304500",
   "metadata": {},
   "outputs": [],
   "source": [
    "from flask import Flask, request\n",
    "\n",
    "app = Flask(__name__)\n",
    "\n",
    "@app.route(\"/inp\")\n",
    "def inp():\n",
    "    page = '''\n",
    "    <form action=\"reply\">\n",
    "        Please input: <input type=\"text\" name=\"topic\">\n",
    "        <input type=\"submit\" value=\"確定\">\n",
    "    </form>\n",
    "    '''\n",
    "    return page\n",
    "\n",
    "@app.route(\"/reply\")\n",
    "def reply():\n",
    "    a = request.args.get('topic')\n",
    "    return f'We got {a}!'\n",
    "\n",
    "app.run()"
   ]
  },
  {
   "cell_type": "markdown",
   "id": "c55e07ab",
   "metadata": {},
   "source": [
    "## Flask Page via Template"
   ]
  },
  {
   "cell_type": "markdown",
   "id": "73426f34",
   "metadata": {},
   "source": [
    "### 2. Return page via render_template()"
   ]
  },
  {
   "cell_type": "code",
   "execution_count": null,
   "id": "6cd64141",
   "metadata": {},
   "outputs": [],
   "source": [
    "from flask import Flask, request, render_template\n",
    "\n",
    "app = Flask(__name__)\n",
    "\n",
    "@app.route(\"/inp\")\n",
    "def inp():\n",
    "    return render_template('inp.html')\n",
    "\n",
    "@app.route(\"/reply\")\n",
    "def reply():\n",
    "    a = request.args.get('topic')\n",
    "    return f'We got {a}!'\n",
    "\n",
    "app.run()"
   ]
  },
  {
   "cell_type": "markdown",
   "id": "b66a8fa9",
   "metadata": {},
   "source": [
    "### 3. Return variable page"
   ]
  },
  {
   "cell_type": "code",
   "execution_count": null,
   "id": "102c80d3",
   "metadata": {},
   "outputs": [],
   "source": [
    "from flask import Flask, request, render_template\n",
    "\n",
    "app = Flask(__name__)\n",
    "\n",
    "@app.route(\"/inp\")\n",
    "def inp():\n",
    "    return render_template('inp.html')\n",
    "\n",
    "@app.route(\"/reply\")\n",
    "def reply():\n",
    "    a = request.args.get('topic')\n",
    "    return render_template('reply.html', a=a)\n",
    "\n",
    "app.run()"
   ]
  },
  {
   "cell_type": "markdown",
   "id": "cb31e1f4",
   "metadata": {},
   "source": [
    "## GET vs POST"
   ]
  },
  {
   "cell_type": "markdown",
   "id": "86760bca",
   "metadata": {},
   "source": [
    "### GET"
   ]
  },
  {
   "cell_type": "code",
   "execution_count": null,
   "id": "6ef7d57c",
   "metadata": {},
   "outputs": [],
   "source": [
    "from flask import Flask, request\n",
    "\n",
    "app = Flask(__name__)\n",
    "\n",
    "@app.route(\"/inp\")\n",
    "def inp():\n",
    "    page = '''\n",
    "    <form action=\"reply\">\n",
    "        Please input: <input type=\"text\" name=\"topic\">\n",
    "        <input type=\"submit\" value=\"確定\">\n",
    "    </form>\n",
    "    '''\n",
    "    return page\n",
    "\n",
    "@app.route(\"/reply\")\n",
    "def reply():\n",
    "    a = request.args.get('topic')\n",
    "    return f'We got {a}!'\n",
    "\n",
    "app.run()"
   ]
  },
  {
   "cell_type": "markdown",
   "id": "e9a3e1ee",
   "metadata": {},
   "source": [
    "### POST"
   ]
  },
  {
   "cell_type": "code",
   "execution_count": null,
   "id": "4d31d7c2",
   "metadata": {},
   "outputs": [],
   "source": [
    "from flask import Flask, request\n",
    "\n",
    "app = Flask(__name__)\n",
    "\n",
    "@app.route(\"/inp\")\n",
    "def inp():\n",
    "    page = '''\n",
    "    <form action=\"reply\" method=\"post\">\n",
    "        Please input: <input type=\"text\" name=\"topic\">\n",
    "        <input type=\"submit\" value=\"確定\">\n",
    "    </form>\n",
    "    '''\n",
    "    return page\n",
    "\n",
    "@app.route(\"/reply\", methods=['GET', 'POST'])\n",
    "def reply():\n",
    "    a = request.args.get('topic') or request.form.get('topic') + ' from POST'\n",
    "    return f'We got {a}!'\n",
    "\n",
    "app.run()"
   ]
  },
  {
   "cell_type": "markdown",
   "id": "1a99e18a",
   "metadata": {},
   "source": [
    "## API Server ft. Flask"
   ]
  },
  {
   "cell_type": "markdown",
   "id": "dcd895fc",
   "metadata": {},
   "source": [
    "### Basic API"
   ]
  },
  {
   "cell_type": "markdown",
   "id": "dfe71c7c",
   "metadata": {},
   "source": [
    "#### parameters through query"
   ]
  },
  {
   "cell_type": "code",
   "execution_count": null,
   "id": "3f0e520e",
   "metadata": {},
   "outputs": [],
   "source": [
    "from flask import Flask, request\n",
    "from wea import WeaG\n",
    "\n",
    "app = Flask(__name__)\n",
    "w = WeaG()\n",
    "\n",
    "@app.route(\"/weather\", methods=['POST'])\n",
    "def weather():\n",
    "    r = None\n",
    "    if request.args:\n",
    "        site = request.args.get('site')\n",
    "        r = w.grab(site)\n",
    "    return r or {'reason': 'no such site'}\n",
    "    \n",
    "app.run()"
   ]
  },
  {
   "cell_type": "markdown",
   "id": "14d9f166",
   "metadata": {},
   "source": [
    "#### parameters through path"
   ]
  },
  {
   "cell_type": "code",
   "execution_count": null,
   "id": "64965bf6",
   "metadata": {},
   "outputs": [],
   "source": [
    "from flask import Flask, request\n",
    "from wea import WeaG\n",
    "\n",
    "app = Flask(__name__)\n",
    "w = WeaG()\n",
    "\n",
    "@app.route(\"/weather/<site>\", methods=['POST'])\n",
    "def weather(site):\n",
    "    r = w.grab(site)\n",
    "    return r or {'reason': 'no such site'}\n",
    "    \n",
    "app.run()"
   ]
  },
  {
   "cell_type": "markdown",
   "id": "729d7b3a",
   "metadata": {},
   "source": [
    "#### parameters through header"
   ]
  },
  {
   "cell_type": "code",
   "execution_count": null,
   "id": "ba75fd32",
   "metadata": {},
   "outputs": [],
   "source": [
    "from flask import Flask, request, abort\n",
    "from wea import WeaG\n",
    "\n",
    "app = Flask(__name__)\n",
    "w = WeaG()\n",
    "\n",
    "@app.route(\"/weather/<site>\", methods=['POST'])\n",
    "def weather(site):\n",
    "    token = request.headers.get('Authorization')\n",
    "    if token != 'Bearer JWT_TOKEN':\n",
    "        abort(401)\n",
    "    r = w.grab(site)\n",
    "    return r or {'reason': 'no such site'}\n",
    "\n",
    "app.run()"
   ]
  },
  {
   "cell_type": "markdown",
   "id": "269ee4ad",
   "metadata": {},
   "source": [
    "#### parameters through multipart/form-data"
   ]
  },
  {
   "cell_type": "code",
   "execution_count": null,
   "id": "a5e7eaf4",
   "metadata": {},
   "outputs": [],
   "source": [
    "from flask import Flask, request\n",
    "from wea import WeaG\n",
    "\n",
    "app = Flask(__name__)\n",
    "w = WeaG()\n",
    "\n",
    "@app.route(\"/weather\", methods=['POST'])\n",
    "def weather():\n",
    "    r = None\n",
    "    if request.form:\n",
    "        site = request.form.get('site')\n",
    "        r = w.grab(site)\n",
    "    return r or {'reason': 'no such site'}\n",
    "    \n",
    "app.run()"
   ]
  },
  {
   "cell_type": "markdown",
   "id": "7c3578db",
   "metadata": {},
   "source": [
    "#### parameters through json in body"
   ]
  },
  {
   "cell_type": "code",
   "execution_count": null,
   "id": "7d57313a",
   "metadata": {},
   "outputs": [],
   "source": [
    "from flask import Flask, request\n",
    "from wea import WeaG\n",
    "\n",
    "app = Flask(__name__)\n",
    "w = WeaG()\n",
    "\n",
    "@app.route(\"/weather\", methods=['POST'])\n",
    "def weather():\n",
    "    r = None\n",
    "    if request.json:\n",
    "        site = request.json.get('site')\n",
    "        r = w.grab(site)\n",
    "    return r or {'reason': 'no such site'}\n",
    "    \n",
    "app.run()"
   ]
  },
  {
   "cell_type": "markdown",
   "id": "57826963",
   "metadata": {},
   "source": [
    "### Upload API"
   ]
  },
  {
   "cell_type": "code",
   "execution_count": null,
   "id": "54151567",
   "metadata": {},
   "outputs": [],
   "source": [
    "from flask import Flask, request\n",
    "from werkzeug.utils import secure_filename\n",
    "\n",
    "app = Flask(__name__)\n",
    "\n",
    "@app.route(\"/upload\", methods=['POST'])\n",
    "def upload():\n",
    "    if request.files and 'file' in request.files:\n",
    "        file = request.files['file']\n",
    "        if file and file.filename:\n",
    "            filename = secure_filename(file.filename)\n",
    "            file.save(filename)\n",
    "            return {'filename': filename}\n",
    "    return {'reason': 'error'}, 400\n",
    "    \n",
    "app.run()"
   ]
  },
  {
   "cell_type": "markdown",
   "id": "6a21b7ef",
   "metadata": {},
   "source": [
    "## Swagger"
   ]
  },
  {
   "cell_type": "code",
   "execution_count": null,
   "id": "464e688f",
   "metadata": {},
   "outputs": [],
   "source": [
    "!pip install Flask-Cors"
   ]
  },
  {
   "cell_type": "markdown",
   "id": "77a915fb",
   "metadata": {},
   "source": [
    "#### parameters through query"
   ]
  },
  {
   "cell_type": "code",
   "execution_count": null,
   "id": "1fc96e9d",
   "metadata": {},
   "outputs": [],
   "source": [
    "from flask import Flask, request\n",
    "from flask_cors import CORS\n",
    "from wea import WeaG\n",
    "\n",
    "app = Flask(__name__)\n",
    "CORS(app)\n",
    "w = WeaG()\n",
    "\n",
    "@app.route(\"/weather\", methods=['POST'])\n",
    "def weather():\n",
    "    r = None\n",
    "    if request.args:\n",
    "        site = request.args.get('site')\n",
    "        r = w.grab(site)\n",
    "    return r or {'reason': 'no such site'}\n",
    "    \n",
    "app.run()"
   ]
  },
  {
   "cell_type": "markdown",
   "id": "1073758f",
   "metadata": {},
   "source": [
    "#### parameters through path"
   ]
  },
  {
   "cell_type": "code",
   "execution_count": null,
   "id": "42b4cb0d",
   "metadata": {},
   "outputs": [],
   "source": [
    "from flask import Flask, request\n",
    "from flask_cors import CORS\n",
    "from wea import WeaG\n",
    "\n",
    "app = Flask(__name__)\n",
    "CORS(app)\n",
    "w = WeaG()\n",
    "\n",
    "@app.route(\"/weather/<site>\", methods=['POST'])\n",
    "def weather(site):\n",
    "    r = w.grab(site)\n",
    "    return r or {'reason': 'no such site'}\n",
    "    \n",
    "app.run()"
   ]
  },
  {
   "cell_type": "markdown",
   "id": "bc0d05ab",
   "metadata": {},
   "source": [
    "#### parameters through header"
   ]
  },
  {
   "cell_type": "code",
   "execution_count": null,
   "id": "7ced5ebb",
   "metadata": {},
   "outputs": [],
   "source": [
    "from flask import Flask, request, abort\n",
    "from flask_cors import CORS\n",
    "from wea import WeaG\n",
    "\n",
    "app = Flask(__name__)\n",
    "CORS(app)\n",
    "w = WeaG()\n",
    "\n",
    "@app.route(\"/weather/<site>\", methods=['POST'])\n",
    "def weather(site):\n",
    "    token = request.headers.get('Authorization')\n",
    "    if token != 'Bearer JWT_TOKEN':\n",
    "        abort(401)\n",
    "    r = w.grab(site)\n",
    "    return r or {'reason': 'no such site'}\n",
    "\n",
    "app.run()"
   ]
  },
  {
   "cell_type": "markdown",
   "id": "0038f866",
   "metadata": {},
   "source": [
    "#### parameters through multipart/form-data"
   ]
  },
  {
   "cell_type": "code",
   "execution_count": null,
   "id": "19460b3f",
   "metadata": {},
   "outputs": [],
   "source": [
    "from flask import Flask, request\n",
    "from flask_cors import CORS\n",
    "from wea import WeaG\n",
    "\n",
    "app = Flask(__name__)\n",
    "CORS(app)\n",
    "w = WeaG()\n",
    "\n",
    "@app.route(\"/weather\", methods=['POST'])\n",
    "def weather():\n",
    "    r = None\n",
    "    if request.form:\n",
    "        site = request.form.get('site')\n",
    "        r = w.grab(site)\n",
    "    return r or {'reason': 'no such site'}\n",
    "    \n",
    "app.run()"
   ]
  },
  {
   "cell_type": "markdown",
   "id": "ed00bb16",
   "metadata": {},
   "source": [
    "#### parameters through json in body"
   ]
  },
  {
   "cell_type": "code",
   "execution_count": null,
   "id": "17711729",
   "metadata": {},
   "outputs": [],
   "source": [
    "from flask import Flask, request\n",
    "from flask_cors import CORS\n",
    "from wea import WeaG\n",
    "\n",
    "app = Flask(__name__)\n",
    "CORS(app)\n",
    "w = WeaG()\n",
    "\n",
    "@app.route(\"/weather\", methods=['POST'])\n",
    "def weather():\n",
    "    r = None\n",
    "    if request.json:\n",
    "        site = request.json.get('site')\n",
    "        r = w.grab()\n",
    "    return r or {'reason': 'no such site'}\n",
    "    \n",
    "app.run()"
   ]
  },
  {
   "cell_type": "code",
   "execution_count": null,
   "id": "28651c61",
   "metadata": {},
   "outputs": [],
   "source": []
  }
 ],
 "metadata": {
  "kernelspec": {
   "display_name": "Python 3 (ipykernel)",
   "language": "python",
   "name": "python3"
  },
  "language_info": {
   "codemirror_mode": {
    "name": "ipython",
    "version": 3
   },
   "file_extension": ".py",
   "mimetype": "text/x-python",
   "name": "python",
   "nbconvert_exporter": "python",
   "pygments_lexer": "ipython3",
   "version": "3.8.10"
  }
 },
 "nbformat": 4,
 "nbformat_minor": 5
}
